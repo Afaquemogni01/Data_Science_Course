{
 "cells": [
  {
   "cell_type": "code",
   "execution_count": 1,
   "id": "376d54a8-bccf-4763-a471-84f8de4e2222",
   "metadata": {},
   "outputs": [],
   "source": [
    "## Write a code to create a string with your name and print it"
   ]
  },
  {
   "cell_type": "code",
   "execution_count": 2,
   "id": "a74067ee-1de3-4651-bd67-6506fe500e40",
   "metadata": {},
   "outputs": [
    {
     "name": "stdout",
     "output_type": "stream",
     "text": [
      "Afaque Mogni\n"
     ]
    }
   ],
   "source": [
    "string =\"Afaque Mogni\"\n",
    "print(string)"
   ]
  },
  {
   "cell_type": "code",
   "execution_count": 3,
   "id": "2d189101-e724-4224-a295-8ec8c395e506",
   "metadata": {},
   "outputs": [],
   "source": [
    "## Write a code to find the length of the string \"Hello World"
   ]
  },
  {
   "cell_type": "code",
   "execution_count": 4,
   "id": "5a16c102-6868-4a27-a200-00d0f34ff37d",
   "metadata": {},
   "outputs": [
    {
     "name": "stdout",
     "output_type": "stream",
     "text": [
      "11\n"
     ]
    }
   ],
   "source": [
    "word=\"Hello World\"\n",
    "print(len(word))"
   ]
  },
  {
   "cell_type": "code",
   "execution_count": 5,
   "id": "1a4940e6-1365-4468-95c8-d676852668cd",
   "metadata": {},
   "outputs": [],
   "source": [
    "##  Write a code to slice the first 3 characters from the string \"Python Programming\""
   ]
  },
  {
   "cell_type": "code",
   "execution_count": 6,
   "id": "dcf42a9c-1ffc-4891-994e-46278a0ebbd6",
   "metadata": {},
   "outputs": [
    {
     "data": {
      "text/plain": [
       "'Pyt'"
      ]
     },
     "execution_count": 6,
     "metadata": {},
     "output_type": "execute_result"
    }
   ],
   "source": [
    "word= \"Python Programming\"\n",
    "word[0:3]"
   ]
  },
  {
   "cell_type": "code",
   "execution_count": 7,
   "id": "f0026d61-91f1-4b6d-b22f-4508cd6db847",
   "metadata": {},
   "outputs": [],
   "source": [
    "## Write a code to convert the string \"hello\" to uppercase"
   ]
  },
  {
   "cell_type": "code",
   "execution_count": 11,
   "id": "d3db7a89-f613-47c3-a35e-93a9bc5e3861",
   "metadata": {},
   "outputs": [
    {
     "name": "stdout",
     "output_type": "stream",
     "text": [
      "HELLO\n"
     ]
    }
   ],
   "source": [
    "word2=\"hello\"\n",
    "textUpper=word2.upper()\n",
    "print(textUpper)"
   ]
  },
  {
   "cell_type": "code",
   "execution_count": 12,
   "id": "a5a1d199-d06c-4e72-a22c-b9bafb5a96d3",
   "metadata": {},
   "outputs": [],
   "source": [
    "##  Write a code to replace the word \"apple\" with \"orange\" in the string \"I like apple\""
   ]
  },
  {
   "cell_type": "code",
   "execution_count": 14,
   "id": "98a7eb91-8dcb-4b98-80da-b86f14934ae1",
   "metadata": {},
   "outputs": [
    {
     "data": {
      "text/plain": [
       "' I like orange'"
      ]
     },
     "execution_count": 14,
     "metadata": {},
     "output_type": "execute_result"
    }
   ],
   "source": [
    "word3=\" I like apple\"\n",
    "word3.replace('apple','orange')"
   ]
  },
  {
   "cell_type": "code",
   "execution_count": 15,
   "id": "4ab9b760-5993-489d-9ec0-1f1185807a73",
   "metadata": {},
   "outputs": [],
   "source": [
    "##  Write a code to create a list with numbers 1 to 5 and print it"
   ]
  },
  {
   "cell_type": "code",
   "execution_count": 22,
   "id": "9a2a4662-50eb-40ba-a021-98160b14a9ad",
   "metadata": {},
   "outputs": [
    {
     "name": "stdout",
     "output_type": "stream",
     "text": [
      "[1, 2, 3, 4, 5]\n"
     ]
    }
   ],
   "source": [
    "lis=list(range(1,6))\n",
    "print(lis)"
   ]
  },
  {
   "cell_type": "code",
   "execution_count": 23,
   "id": "45c51f41-54cb-46ec-8db2-bbe33f442440",
   "metadata": {},
   "outputs": [],
   "source": [
    "##  Write a code to append the number 10 to the list [1, 2, 3, 4]"
   ]
  },
  {
   "cell_type": "code",
   "execution_count": 24,
   "id": "d45291d7-eb98-4bec-b700-af9010ebded9",
   "metadata": {},
   "outputs": [],
   "source": [
    "lis.append(10)"
   ]
  },
  {
   "cell_type": "code",
   "execution_count": 25,
   "id": "9405b488-688e-497d-bae2-1732cb0ec56f",
   "metadata": {},
   "outputs": [
    {
     "name": "stdout",
     "output_type": "stream",
     "text": [
      "[1, 2, 3, 4, 5, 10]\n"
     ]
    }
   ],
   "source": [
    "print(lis)"
   ]
  },
  {
   "cell_type": "code",
   "execution_count": 26,
   "id": "a902d22c-a4f1-492c-8e96-448ec9879924",
   "metadata": {},
   "outputs": [],
   "source": [
    "## Write a code to remove the number 3 from the list [1, 2, 3, 4, 5]"
   ]
  },
  {
   "cell_type": "code",
   "execution_count": 27,
   "id": "717538e0-ac60-4a2f-ab3d-0836cce419c2",
   "metadata": {},
   "outputs": [
    {
     "name": "stdout",
     "output_type": "stream",
     "text": [
      "[1, 2, 4, 5, 10]\n"
     ]
    }
   ],
   "source": [
    "lis.remove(3)\n",
    "print(lis)"
   ]
  },
  {
   "cell_type": "code",
   "execution_count": 28,
   "id": "5bb63784-c252-4f5e-9505-b46cb503e96c",
   "metadata": {},
   "outputs": [],
   "source": [
    "##  Write a code to access the second element in the list ['a', 'b', 'c', 'd']"
   ]
  },
  {
   "cell_type": "code",
   "execution_count": 29,
   "id": "b99d3856-e3f0-4377-a120-632945120b8b",
   "metadata": {},
   "outputs": [],
   "source": [
    "lisAlpha=['a','b','c','d']"
   ]
  },
  {
   "cell_type": "code",
   "execution_count": 30,
   "id": "de906738-dfbc-4ea4-b0e2-e24ba68a1bb0",
   "metadata": {},
   "outputs": [
    {
     "data": {
      "text/plain": [
       "'b'"
      ]
     },
     "execution_count": 30,
     "metadata": {},
     "output_type": "execute_result"
    }
   ],
   "source": [
    "lisAlpha[1]"
   ]
  },
  {
   "cell_type": "code",
   "execution_count": 31,
   "id": "c43e0909-ef5c-48f1-9ed6-b1430e21ae7b",
   "metadata": {},
   "outputs": [],
   "source": [
    "##. Write a code to reverse the list [10, 20, 30, 40, 50]."
   ]
  },
  {
   "cell_type": "code",
   "execution_count": 32,
   "id": "fc8e2c7f-35c6-4513-8003-9cffdfc3be6c",
   "metadata": {},
   "outputs": [
    {
     "data": {
      "text/plain": [
       "[50, 40, 30, 20, 10]"
      ]
     },
     "execution_count": 32,
     "metadata": {},
     "output_type": "execute_result"
    }
   ],
   "source": [
    "RevLis=[10,20,30,40,50]\n",
    "RevLis[::-1]"
   ]
  },
  {
   "cell_type": "code",
   "execution_count": 37,
   "id": "6244908d-5b49-4238-8460-84e467c305dd",
   "metadata": {},
   "outputs": [],
   "source": [
    "## . Write a code to create a tuple with the elements 100, 200, 300 and print it"
   ]
  },
  {
   "cell_type": "code",
   "execution_count": 35,
   "id": "38487b7c-4783-40f1-a208-7b5f1a6bd2f1",
   "metadata": {},
   "outputs": [
    {
     "name": "stdout",
     "output_type": "stream",
     "text": [
      "<class 'tuple'>\n",
      "(100, 200, 300)\n"
     ]
    }
   ],
   "source": [
    "tup=(100,200,300)\n",
    "print(type(tup))\n",
    "print(tup)"
   ]
  },
  {
   "cell_type": "code",
   "execution_count": 36,
   "id": "a902ef0f-4de6-4b2d-ae73-b6ff6cb40d0e",
   "metadata": {},
   "outputs": [],
   "source": [
    "##  Write a code to access the second-to-last element of the tuple ('red', 'green', 'blue', 'yellow')"
   ]
  },
  {
   "cell_type": "code",
   "execution_count": 51,
   "id": "8fa6af45-3991-42a4-8ccf-d7132e0e2e6d",
   "metadata": {},
   "outputs": [],
   "source": [
    "tup1=('red','green','blue','yellow')"
   ]
  },
  {
   "cell_type": "code",
   "execution_count": 55,
   "id": "7e9c660e-b663-4e75-b26e-9ceeb82c6e27",
   "metadata": {},
   "outputs": [
    {
     "data": {
      "text/plain": [
       "('green', 'blue', 'yellow')"
      ]
     },
     "execution_count": 55,
     "metadata": {},
     "output_type": "execute_result"
    }
   ],
   "source": [
    "tup1[1::]"
   ]
  },
  {
   "cell_type": "code",
   "execution_count": 56,
   "id": "27b1ddd7-717d-4c3c-8d12-f9608c1e571f",
   "metadata": {},
   "outputs": [],
   "source": [
    "## Write a code to find the minimum number in the tuple (10, 20, 5, 15)."
   ]
  },
  {
   "cell_type": "code",
   "execution_count": 62,
   "id": "4197d90c-b70c-4182-8ab0-fffb9df69a27",
   "metadata": {},
   "outputs": [
    {
     "name": "stdout",
     "output_type": "stream",
     "text": [
      "5\n"
     ]
    }
   ],
   "source": [
    "tup2=(10,20,5,15)\n",
    "from functools import reduce\n",
    "result=reduce(lambda x,y:x if x<y else y,tup2)\n",
    "print(result)"
   ]
  },
  {
   "cell_type": "code",
   "execution_count": 63,
   "id": "f018c102-5f4b-467e-9349-fd7ba25358b2",
   "metadata": {},
   "outputs": [],
   "source": [
    "## . Write a code to find the index of the element \"cat\" in the tuple ('dog', 'cat', 'rabbit') "
   ]
  },
  {
   "cell_type": "code",
   "execution_count": 65,
   "id": "70ca7c93-acbc-4f0d-b0e6-f1a17b10e8b2",
   "metadata": {},
   "outputs": [
    {
     "name": "stdout",
     "output_type": "stream",
     "text": [
      "1\n"
     ]
    }
   ],
   "source": [
    "tup3=('dog','cat','rabbit')\n",
    "index_of_cat=tup3.index('cat')\n",
    "print(index_of_cat)"
   ]
  },
  {
   "cell_type": "code",
   "execution_count": 66,
   "id": "762a9056-88bf-41bc-8f73-a7b35c2424f8",
   "metadata": {},
   "outputs": [],
   "source": [
    "## . Write a code to create a tuple containing three different fruits and check if \"kiwi\" is in it"
   ]
  },
  {
   "cell_type": "code",
   "execution_count": 67,
   "id": "f2202120-ac9a-4f50-8a79-14f879f5279d",
   "metadata": {},
   "outputs": [
    {
     "name": "stdout",
     "output_type": "stream",
     "text": [
      "yes\n"
     ]
    }
   ],
   "source": [
    "fruits=('apple','grapes','kiwi')\n",
    "if 'kiwi'  in fruits:\n",
    "    print(\"yes\")\n",
    "else:\n",
    "    print(\"no\")"
   ]
  },
  {
   "cell_type": "code",
   "execution_count": 68,
   "id": "8b677b03-5310-4793-a390-281897342157",
   "metadata": {},
   "outputs": [],
   "source": [
    "## Write a code to create a set with the elements 'a', 'b', 'c' and print it."
   ]
  },
  {
   "cell_type": "code",
   "execution_count": 70,
   "id": "0d8ac38b-5d94-49d4-9d06-c0edc4421461",
   "metadata": {},
   "outputs": [
    {
     "name": "stdout",
     "output_type": "stream",
     "text": [
      "{'c', 'a', 'b'}\n"
     ]
    }
   ],
   "source": [
    "set1 ={'a','b','c'}\n",
    "print(set1)"
   ]
  },
  {
   "cell_type": "code",
   "execution_count": 71,
   "id": "77ebf10b-2bb5-4f01-8f87-2942f52df143",
   "metadata": {},
   "outputs": [],
   "source": [
    "##  Write a code to clear all elements from the set {1, 2, 3, 4, 5}. "
   ]
  },
  {
   "cell_type": "code",
   "execution_count": 73,
   "id": "797c3017-e9c7-4194-a919-e00bd7362d72",
   "metadata": {},
   "outputs": [
    {
     "data": {
      "text/plain": [
       "set()"
      ]
     },
     "execution_count": 73,
     "metadata": {},
     "output_type": "execute_result"
    }
   ],
   "source": [
    "set2={1,2,3,4,5}\n",
    "set2.clear()\n",
    "set2"
   ]
  },
  {
   "cell_type": "code",
   "execution_count": 74,
   "id": "4dbf89f4-1b5c-4978-acdc-ead18335a052",
   "metadata": {},
   "outputs": [],
   "source": [
    "##   Write a code to remove the element 4 from the set {1, 2, 3, 4} "
   ]
  },
  {
   "cell_type": "code",
   "execution_count": 79,
   "id": "65a2f034-f3f6-46ab-bbae-2188d7ff7e22",
   "metadata": {},
   "outputs": [],
   "source": [
    "set3={1,2,3,4}"
   ]
  },
  {
   "cell_type": "code",
   "execution_count": 80,
   "id": "14add1e7-2a29-4972-9551-5416090da3e4",
   "metadata": {},
   "outputs": [
    {
     "data": {
      "text/plain": [
       "{1, 2, 3}"
      ]
     },
     "execution_count": 80,
     "metadata": {},
     "output_type": "execute_result"
    }
   ],
   "source": [
    "set3.remove(4)\n",
    "set3"
   ]
  },
  {
   "cell_type": "code",
   "execution_count": 81,
   "id": "87054cd4-f75b-4498-bb03-61848d5f985a",
   "metadata": {},
   "outputs": [],
   "source": [
    "## . Write a code to find the union of two sets {1, 2, 3} and {3, 4, 5}. "
   ]
  },
  {
   "cell_type": "code",
   "execution_count": 83,
   "id": "48e9877c-75d1-46f5-97d3-ed961391da36",
   "metadata": {},
   "outputs": [
    {
     "name": "stdout",
     "output_type": "stream",
     "text": [
      "{1, 2, 3, 4, 5}\n"
     ]
    }
   ],
   "source": [
    "Uset1={1,2,3}\n",
    "Uset2={3,4,5}\n",
    "UnionSet=Uset1.union(Uset2)\n",
    "print(UnionSet)"
   ]
  },
  {
   "cell_type": "code",
   "execution_count": 84,
   "id": "752a58b7-d5d9-4041-885e-cbbc1d73c4f2",
   "metadata": {},
   "outputs": [],
   "source": [
    "##  Write a code to find the intersection of two sets {1, 2, 3} and {2, 3, 4}."
   ]
  },
  {
   "cell_type": "code",
   "execution_count": 86,
   "id": "300fd1cc-ba6b-40b5-828b-59bd28b50fd8",
   "metadata": {},
   "outputs": [
    {
     "name": "stdout",
     "output_type": "stream",
     "text": [
      "{3}\n"
     ]
    }
   ],
   "source": [
    "interSet=Uset1.intersection(Uset2)\n",
    "print(interSet)"
   ]
  },
  {
   "cell_type": "code",
   "execution_count": 87,
   "id": "06b3c4b8-d696-46d5-8458-b83b47ea80de",
   "metadata": {},
   "outputs": [],
   "source": [
    "##  Write a code to create a dictionary with the keys \"name\", \"age\", and \"city\", and print it"
   ]
  },
  {
   "cell_type": "code",
   "execution_count": 88,
   "id": "c340f7b7-52bf-4f30-a7ec-197c6d89a48f",
   "metadata": {},
   "outputs": [
    {
     "data": {
      "text/plain": [
       "{'name': 'Afaque', 'age': 23, 'city': 'Jharkhand'}"
      ]
     },
     "execution_count": 88,
     "metadata": {},
     "output_type": "execute_result"
    }
   ],
   "source": [
    "dict1={'name':'Afaque','age':23,'city':'Jharkhand'}\n",
    "dict1"
   ]
  },
  {
   "cell_type": "code",
   "execution_count": 89,
   "id": "51d259d1-7ad3-4e44-a6b9-08871467d0fe",
   "metadata": {},
   "outputs": [],
   "source": [
    "##  Write a code to add a new key-value pair \"country\": \"USA\" to the dictionary {'name': 'John', 'age': 25}."
   ]
  },
  {
   "cell_type": "code",
   "execution_count": 93,
   "id": "29dcc4bd-c5f0-4f40-b851-e3519647ec1a",
   "metadata": {},
   "outputs": [
    {
     "data": {
      "text/plain": [
       "{'name': 'john', 'age': 25, 'country': 'USA'}"
      ]
     },
     "execution_count": 93,
     "metadata": {},
     "output_type": "execute_result"
    }
   ],
   "source": [
    "dict2 ={'name':'john','age':25}\n",
    "dict2['country']='USA'\n",
    "dict2"
   ]
  },
  {
   "cell_type": "code",
   "execution_count": 94,
   "id": "f2b2a13b-1e18-44ef-bff5-a8122258eefe",
   "metadata": {},
   "outputs": [],
   "source": [
    "## . Write a code to access the value associated with the key \"name\" in the dictionary {'name': 'Alice', 'age': 30}."
   ]
  },
  {
   "cell_type": "code",
   "execution_count": 97,
   "id": "4585ff2f-6a93-49fe-9d3f-14e75b5689a5",
   "metadata": {},
   "outputs": [
    {
     "name": "stdout",
     "output_type": "stream",
     "text": [
      " his name is Alice and his age is 30\n"
     ]
    }
   ],
   "source": [
    "dict3={'name':'Alice','age':30}\n",
    "print(f\" his name is {dict3['name']} and his age is {dict3['age']}\")"
   ]
  },
  {
   "cell_type": "code",
   "execution_count": 98,
   "id": "15831614-6279-48f9-b069-a214df6400c7",
   "metadata": {},
   "outputs": [],
   "source": [
    "## . Write a code to remove the key \"age\" from the dictionary {'name': 'Bob', 'age': 22, 'city': 'New York'}."
   ]
  },
  {
   "cell_type": "code",
   "execution_count": 99,
   "id": "b9228975-acd2-40f1-9666-7a63f6bf2864",
   "metadata": {},
   "outputs": [
    {
     "data": {
      "text/plain": [
       "22"
      ]
     },
     "execution_count": 99,
     "metadata": {},
     "output_type": "execute_result"
    }
   ],
   "source": [
    "details={'name':'bob','age':22,'city':'New York'}\n",
    "details.pop('age')"
   ]
  },
  {
   "cell_type": "code",
   "execution_count": 100,
   "id": "28881230-2b08-4e1d-9311-8c8586101d31",
   "metadata": {},
   "outputs": [
    {
     "data": {
      "text/plain": [
       "{'name': 'bob', 'city': 'New York'}"
      ]
     },
     "execution_count": 100,
     "metadata": {},
     "output_type": "execute_result"
    }
   ],
   "source": [
    "details"
   ]
  },
  {
   "cell_type": "code",
   "execution_count": 101,
   "id": "af9221bf-a228-4f8d-8e65-11f435c03632",
   "metadata": {},
   "outputs": [],
   "source": [
    "##  Write a code to check if the key \"city\" exists in the dictionary {'name': 'Alice', 'city': 'Paris'}."
   ]
  },
  {
   "cell_type": "code",
   "execution_count": 102,
   "id": "b70a1191-d886-4101-911d-18948ffb9533",
   "metadata": {},
   "outputs": [
    {
     "name": "stdout",
     "output_type": "stream",
     "text": [
      "yes the key city is exist\n"
     ]
    }
   ],
   "source": [
    "home={'name':'Alice','city':'Paris'}\n",
    "if 'city'in home:\n",
    "    print(\"yes the key city is exist\")\n",
    "else:\n",
    "    print(\"key does not exist\")"
   ]
  },
  {
   "cell_type": "code",
   "execution_count": 103,
   "id": "ceec2de0-2a37-41b0-9238-cb8aeacf9117",
   "metadata": {},
   "outputs": [],
   "source": [
    "##  Write a code to create a list, a tuple, and a dictionary, and print them all. "
   ]
  },
  {
   "cell_type": "code",
   "execution_count": 104,
   "id": "a3a99ea4-3014-448b-acb2-255561aaa1a3",
   "metadata": {},
   "outputs": [
    {
     "name": "stdout",
     "output_type": "stream",
     "text": [
      "List: [1, 2, 3, 4, 5]\n",
      "Tuple: ('apple', 'banana', 'cherry')\n",
      "Dictionary: {'name': 'Alice', 'age': 30, 'city': 'New York'}\n"
     ]
    }
   ],
   "source": [
    "\n",
    "my_list = [1, 2, 3, 4, 5]\n",
    "\n",
    "my_tuple = ('apple', 'banana', 'cherry')\n",
    "\n",
    "\n",
    "my_dict = {'name': 'Alice', 'age': 30, 'city': 'New York'}\n",
    "\n",
    "\n",
    "print(\"List:\", my_list)\n",
    "print(\"Tuple:\", my_tuple)\n",
    "print(\"Dictionary:\", my_dict)\n"
   ]
  },
  {
   "cell_type": "code",
   "execution_count": 105,
   "id": "5433873c-83fc-4564-ae2e-f3f8a3287622",
   "metadata": {},
   "outputs": [],
   "source": [
    "##  Write a code to create a list of 5 random numbers between 1 and 100, sort it in ascending order, and print the\n",
    "## result.(replaced)"
   ]
  },
  {
   "cell_type": "code",
   "execution_count": 109,
   "id": "16533433-c349-4882-9747-03ad77859f13",
   "metadata": {},
   "outputs": [
    {
     "name": "stdout",
     "output_type": "stream",
     "text": [
      "[9, 50, 54, 56, 100]\n"
     ]
    }
   ],
   "source": [
    "import random \n",
    "random_list=[random.randint(1,100) for i in range(5)]\n",
    "random_list.sort()\n",
    "print(random_list)"
   ]
  },
  {
   "cell_type": "code",
   "execution_count": 110,
   "id": "8c5985f6-75b7-4d56-ae6b-0a3529d6eb04",
   "metadata": {},
   "outputs": [],
   "source": [
    "##  Write a code to create a list with strings and print the element at the third index.\n"
   ]
  },
  {
   "cell_type": "code",
   "execution_count": 111,
   "id": "7fdb0f74-f080-4762-96d6-e7742e6f4d1a",
   "metadata": {},
   "outputs": [
    {
     "name": "stdout",
     "output_type": "stream",
     "text": [
      "Element at index 3: date\n"
     ]
    }
   ],
   "source": [
    "\n",
    "my_list = ['apple', 'banana', 'cherry', 'date', 'elderberry']\n",
    "\n",
    "print(\"Element at index 3:\", my_list[3])\n"
   ]
  },
  {
   "cell_type": "code",
   "execution_count": 112,
   "id": "b1e362da-f879-44ca-a7ef-788810997789",
   "metadata": {},
   "outputs": [],
   "source": [
    "##  Write a code to combine two dictionaries into one and print the result"
   ]
  },
  {
   "cell_type": "code",
   "execution_count": 115,
   "id": "225efe51-e03f-4858-a097-f1ae3cc42fb3",
   "metadata": {},
   "outputs": [
    {
     "name": "stdout",
     "output_type": "stream",
     "text": [
      "{'name': 'afaue', 'age': 23, 'city': 'New York', 'country': 'USA'}\n"
     ]
    }
   ],
   "source": [
    "my_dict={'name':'afaue','age':23}\n",
    "my_dict1={'city': 'New York', 'country': 'USA'}\n",
    "merged_dict={**my_dict,**my_dict1}\n",
    "print(merged_dict)"
   ]
  },
  {
   "cell_type": "code",
   "execution_count": 116,
   "id": "daf76011-a273-45e1-9c99-ba9e67454ca1",
   "metadata": {},
   "outputs": [],
   "source": [
    "## . Write a code to convert a list of strings into a set."
   ]
  },
  {
   "cell_type": "code",
   "execution_count": 118,
   "id": "3cfd57d7-bdf6-490c-ac8a-987e628613c8",
   "metadata": {},
   "outputs": [
    {
     "name": "stdout",
     "output_type": "stream",
     "text": [
      "{'apple', 'kiwi', 'bnana', 'grapes'}\n",
      "<class 'set'>\n"
     ]
    }
   ],
   "source": [
    "string_list=['apple','bnana','grapes','kiwi']\n",
    "string_set=set(string_list)\n",
    "print(string_set)\n",
    "print(type(string_set))"
   ]
  },
  {
   "cell_type": "code",
   "execution_count": null,
   "id": "c15dfb64-e7ed-4fc2-afda-814456a86441",
   "metadata": {},
   "outputs": [],
   "source": []
  }
 ],
 "metadata": {
  "kernelspec": {
   "display_name": "Python 3 (ipykernel)",
   "language": "python",
   "name": "python3"
  },
  "language_info": {
   "codemirror_mode": {
    "name": "ipython",
    "version": 3
   },
   "file_extension": ".py",
   "mimetype": "text/x-python",
   "name": "python",
   "nbconvert_exporter": "python",
   "pygments_lexer": "ipython3",
   "version": "3.13.1"
  }
 },
 "nbformat": 4,
 "nbformat_minor": 5
}
