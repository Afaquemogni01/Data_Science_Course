{
 "cells": [
  {
   "cell_type": "code",
   "execution_count": 1,
   "id": "cb90d9d4-cc99-4fa6-a84a-bdff85343a76",
   "metadata": {},
   "outputs": [
    {
     "data": {
      "text/plain": [
       "'\\nThis looks like a comment\\nbut is actually a multi-line string\\nthat is not stored or used anywhere\\n'"
      ]
     },
     "execution_count": 1,
     "metadata": {},
     "output_type": "execute_result"
    }
   ],
   "source": [
    "\n",
    "'''\n",
    "1.What is the difference between interpreted and compiled languages\n",
    "\n",
    "\n",
    "  compiled Languages\n",
    "=>  compiled langguages are translated into machine code once before execution.\n",
    "=> faster then the interpretor\n",
    "=> Detects all the errors before the execution\n",
    "\n",
    " Interpreted Languages\n",
    "=> Translating line by line during runtime.\n",
    "=>typically slower at run time\n",
    "=> Detects the error at run time\n",
    "\n",
    "\n",
    "\n",
    "2 What is exception handling in Python?\n",
    "=> An exception is an event that occurs during programme execution that disrupts the regular flow of an execution\n",
    "   Python object that reflects an error is known as exception handling in python\n",
    "\n",
    "\n",
    "3  What is the purpose of the finally block in exception handling?\n",
    "=>  The finally block in python is used in conjunction with the try block statement. \n",
    "The block is used to write code that must be executed regardless of whether the try blocks generates an error \n",
    "\n",
    "4.  What is logging in Python?\n",
    "=> Records the state & flow of the program/codee.\n",
    "  useful for maintaining , understanding ,monitoring and debugging of your code \n",
    "=> Shows how program behaves overtime.\n",
    "\n",
    "5  What is the significance of the __del__ method in Python?\n",
    "=>The __del__ method in python is known as destructor. It is called when an object is about to destroyed, typically\n",
    "when there is no more refrence to an object\n",
    "In simple terms it is the method define to close the file after it is opened\n",
    "\n",
    "6. How can you handle multiple exceptions in Python\n",
    "=> There are multiple ways to handle the multiple exceptions in python:\n",
    "    1 using separate except Block\n",
    "            try:\n",
    "               x=int(\"abc\")  # this will raise the value error\n",
    "               y=10/0 # this will raise the 0 div error\n",
    "            except ValueError:\n",
    "               print(\"caught a value error\")\n",
    "            except ZeroDivisionError:\n",
    "                print(\"zero div error\")\n",
    "\n",
    "                \n",
    "    2 multiple exceptions in single except block\n",
    "\n",
    "            try:\n",
    "              x=10\n",
    "              y=0\n",
    "              c=x/y\n",
    "              print(\" the value of c divide by a and b is\",c)\n",
    "            except(ValueError,ZeroDivisionError):\n",
    "               print(\" please enter a valid value\")\n",
    "\n",
    "\n",
    "\n",
    "8.  What is the purpose of the with statement when handling files in Python\n",
    "   => Purpose of with statement when handling files in python\n",
    "      'with' statement in python is used to simplify the Resource management in python, when working with files\n",
    "      Its main purpose is to handle the opening and closing of the resources,like files ,even if errors occours during \n",
    "      processing\n",
    "\n",
    "\n",
    "9.  What is the difference between multithreading and multiprocessing\n",
    "   => Mutlithrading \n",
    "      - suitable uses in cpu i/o bound  tasks, like fileDownloading and retriving and reading.\n",
    "      - Threads are more Lighter then the process \n",
    "      -Multiple threads share a same memory space with a single processs \n",
    "    => Multiprocessing\n",
    "      - suitable for Mathematical computations and Image processing task.\n",
    "      - handle the each processes independently .\n",
    "      - Much faster then the  Multithreading in terms of Mathematical Computations.\n",
    "      - Efficeintly performing the resource Utilaization of multiple cpu cores\n",
    "\n",
    "\n",
    "10   What are the advantages of using logging in a program\n",
    "    => Logging Records the state & flow of your program/code.\n",
    "    => useful for understanding and monitoring and debugging of the code \n",
    "    => Logging shows how program behaves over time \n",
    "\n",
    "11.  What is memory management in Python?\n",
    "     => Memory managemnet in python refers to how  the python referes to the allocation use and release of memory\n",
    "       during the execution of a program \n",
    "\n",
    "\n",
    "12. What are the basic steps involved in exception handling in Python?\n",
    "\n",
    "    =>Basics steps involved in exception handling:-\n",
    "    \n",
    "       try block :- put the code that may raise an exception inside the block\n",
    "       except block:- handle the general exceptions using one or more block\n",
    "       finally block:-The finally block runs no matter what , weather the exceptions run or not.\n",
    "\n",
    "13.  Why is memory management important in Python\n",
    "    Memory managemnet is imp in python because of:-\n",
    "\n",
    "    - Effiecient use of resources allocation.\n",
    "    - To avoid the memory leaks in code.\n",
    "\n",
    "\n",
    "\n",
    "\n",
    "14 What is the role of try and except in exception handling\n",
    "   =>  The role of 'try' and 'except' block in exception handling is \n",
    "      -try block is used to identify the code that may raise an exception \n",
    "      - except block is used to handling the general exceptions of the raised error\n",
    "\n",
    "\n",
    "\n",
    "15.  How does Python's garbage collection system work?\n",
    "    => Python garbage collection freed up the memory that has no longer of use , so the devlopers don't have to \n",
    "    allocate or deallocate the memory manually\n",
    "\n",
    "\n",
    "16.  What is the purpose of the else block in exception handling?\n",
    "  => else block in exceptioin handling is used define code that should run only if the no exception is raised in try block\n",
    "\n",
    "\n",
    "\n",
    "\n",
    "17  What are the common logging levels in Python?\n",
    "   => common logging levels in python :-\n",
    "     - logging.basicConfig\n",
    "     -logging.info\n",
    "     -logging.warning\n",
    "     -logging.debug\n",
    "     -logging.error\n",
    "\n",
    "\n",
    "18.  What is the difference between os.fork() and multiprocessing in Python?\n",
    "\n",
    "    => os.fork() and multiprocessing both creates the child processs in python, but they differs significantly ,\n",
    "      ease of use , desigen process , and portability\n",
    "\n",
    "\n",
    "19.  What is the importance of closing a file in Python?\n",
    "    => closing the file in python is very important because it ensures that all the resources that are associated \n",
    "      with the files are properly released and the data is safely written to the disk\n",
    "\n",
    "       if you don't close the file :-\n",
    "        => there will be chances of rising the risk file corruption.\n",
    "        => In some systems the changes may not reflects before closing  the files \n",
    "\n",
    "\n",
    "20  What is the logging module in Python used for?\n",
    "   => The lgging module is used to track the events and messages that happens during the program execution.\n",
    "      it is a powerfull tool used to detect the\n",
    "       -debug \n",
    "       -error tracking \n",
    "       -audit trails\n",
    "       -porduction monitoring\n",
    "\n",
    "21.  What is the os module in Python used for in file handling?\n",
    "   => The OS Module i python is used to intereact with the OS enviroment and in file handling \n",
    "    => It provides powerfull tools to work with directories ,files path and enviroment variables\n",
    "\n",
    "\n",
    "\n",
    "22.  What are the challenges associated with memory management in Python?\n",
    "    => Challenges in memory  management in pyhton:-\n",
    "      Memory leak:-When an object refrence each other , creating the cycles \n",
    "      => Global interpreted lock (GIL)\n",
    "      => Fragmentation of a memory\n",
    " \n",
    "'''\n"
   ]
  },
  {
   "cell_type": "code",
   "execution_count": 2,
   "id": "019e6ae3-5ae2-4911-b707-aae1f6b6aa58",
   "metadata": {},
   "outputs": [],
   "source": [
    "##  Here starts the coding question"
   ]
  },
  {
   "cell_type": "code",
   "execution_count": 3,
   "id": "7b1b0734-e8be-4f00-a46a-18616239f97a",
   "metadata": {},
   "outputs": [],
   "source": [
    "## 1.  How can you open a file for writing in Python and write a string to it?"
   ]
  },
  {
   "cell_type": "code",
   "execution_count": 9,
   "id": "34cb289a-baed-4c99-8b06-3daa7262e42e",
   "metadata": {},
   "outputs": [],
   "source": [
    "with open(\"file.txt\",'w') as file:\n",
    "    file.write(\" this is the another content of the file\\n\")\n",
    "    file.write( \" this is first content of the file\")\n",
    "    "
   ]
  },
  {
   "cell_type": "code",
   "execution_count": 10,
   "id": "304c453f-91bd-4951-b759-c943339bfd7d",
   "metadata": {},
   "outputs": [],
   "source": [
    "## 2.  Write a Python program to read the contents of a file and print each line"
   ]
  },
  {
   "cell_type": "code",
   "execution_count": 13,
   "id": "88d3d9ba-9ed4-497f-81db-0f8d2dfdbc99",
   "metadata": {},
   "outputs": [
    {
     "name": "stdout",
     "output_type": "stream",
     "text": [
      "this is the another content of the file\n",
      "this is first content of the file\n"
     ]
    }
   ],
   "source": [
    "filename=\"file.txt\"\n",
    "try:\n",
    "    with open(filename,'r')as file:\n",
    "        for line in file:\n",
    "            print(line.strip())\n",
    "except FileNotFoundError:\n",
    "    print(f\"the file '{filename}'was not found\")"
   ]
  },
  {
   "cell_type": "code",
   "execution_count": 14,
   "id": "ee7bce9f-5d42-49c1-81e4-5a2a4172f5c3",
   "metadata": {},
   "outputs": [],
   "source": [
    "## 3  How would you handle a case where the file doesn't exist while trying to open it for reading?"
   ]
  },
  {
   "cell_type": "code",
   "execution_count": 15,
   "id": "f665483f-09c5-4dc9-980f-5c93440f2402",
   "metadata": {},
   "outputs": [],
   "source": [
    "## this is questions answer is same as ans 2 "
   ]
  },
  {
   "cell_type": "code",
   "execution_count": 16,
   "id": "0c7ad453-50cc-4fe5-b292-aed85d21f751",
   "metadata": {},
   "outputs": [],
   "source": [
    "## 4  Write a Python script that reads from one file and writes its content to another file"
   ]
  },
  {
   "cell_type": "code",
   "execution_count": 20,
   "id": "39d40128-e3c2-4862-a5a8-ec8fbd4a8063",
   "metadata": {},
   "outputs": [
    {
     "name": "stdout",
     "output_type": "stream",
     "text": [
      "this is the another content of the file\n",
      "this is first content of the file\n"
     ]
    }
   ],
   "source": [
    "newFileName='newFile.txt'\n",
    "try:\n",
    "    with open(filename,'r') as file,open(newFileName,'w') as newFile:\n",
    "        for line in file:\n",
    "            newFile.write(line.strip()+'\\n')\n",
    "except FileNotFoundError:\n",
    "    print(f\"the file '{filename}'was not found\")\n",
    "\n",
    "## now verifying the contents of the new file\n",
    "\n",
    "filename=\"newFile.txt\"\n",
    "try:\n",
    "    with open(filename,'r')as file:\n",
    "        for line in file:\n",
    "            print(line.strip())\n",
    "except FileNotFoundError:\n",
    "    print(f\"the file '{filename}'was not found\")\n"
   ]
  },
  {
   "cell_type": "code",
   "execution_count": 1,
   "id": "aaa4ec8d-142b-4682-af24-2bfb8864b915",
   "metadata": {},
   "outputs": [],
   "source": [
    "## 5.  How would you catch and handle division by zero error in Python"
   ]
  },
  {
   "cell_type": "code",
   "execution_count": 6,
   "id": "bc5008c2-ff35-4ae6-9b9b-62d23e76f3ee",
   "metadata": {},
   "outputs": [
    {
     "name": "stdout",
     "output_type": "stream",
     "text": [
      "can't divide division by zero\n"
     ]
    }
   ],
   "source": [
    "try:\n",
    "    a=10\n",
    "    b=0\n",
    "    c=a/b\n",
    "except ZeroDivisionError as e:\n",
    "    print(\"can't divide\",e)"
   ]
  },
  {
   "cell_type": "code",
   "execution_count": 7,
   "id": "5b3d7951-9762-40c1-a8e6-386e22c98564",
   "metadata": {},
   "outputs": [],
   "source": [
    "## 6  Write a Python program that logs an error message to a log file when a division by zero exception occurs"
   ]
  },
  {
   "cell_type": "code",
   "execution_count": null,
   "id": "eb9b5f65-3542-4db8-8ca2-53ce16bf9c29",
   "metadata": {},
   "outputs": [],
   "source": []
  },
  {
   "cell_type": "code",
   "execution_count": 9,
   "id": "4d33d232-3f03-4319-99e9-5bb6dd5f8e8a",
   "metadata": {},
   "outputs": [],
   "source": [
    "import logging\n",
    "logging.basicConfig(filename='error.log',\n",
    "                    level=logging.ERROR,\n",
    "                    format='%(asctime)s -%(levelname)s -%(message)s')\n",
    "try:\n",
    "    a=10\n",
    "    b=0\n",
    "    c=a/b\n",
    "except ZeroDivisionError as e:\n",
    "    logging.error(f'there is an error check into the log file{e}')\n"
   ]
  },
  {
   "cell_type": "code",
   "execution_count": 10,
   "id": "7f577846-a4a6-4259-8ee3-7202b9e7df78",
   "metadata": {},
   "outputs": [],
   "source": [
    "## 7.  How do you log information at different levels (INFO, ERROR, WARNING) in Python using the logging module"
   ]
  },
  {
   "cell_type": "code",
   "execution_count": 11,
   "id": "38342cb9-3fbf-4600-a72c-5da0eadc08e2",
   "metadata": {},
   "outputs": [],
   "source": [
    "import logging\n",
    "logging.basicConfig(filename='error.log',level=logging.INFO)\n",
    "logging.info(\"this is my normal information about the software\")\n",
    "logging.warning(\"There can be empty list here\")\n",
    "logging.debug(\"The length of the list is \")\n",
    "logging.error(\" tbis is the error log file\")\n",
    "logging.critical(\"the software has stopped running\")\n",
    "logging.shutdown()\n",
    "\n"
   ]
  },
  {
   "cell_type": "code",
   "execution_count": 12,
   "id": "14dfeccd-6873-4d2d-9363-79345234808d",
   "metadata": {},
   "outputs": [],
   "source": [
    "# 8.  Write a program to handle a file opening error using exception handling"
   ]
  },
  {
   "cell_type": "code",
   "execution_count": 18,
   "id": "093bafbe-bf8a-46db-8cb4-9168431541c0",
   "metadata": {},
   "outputs": [
    {
     "name": "stdout",
     "output_type": "stream",
     "text": [
      " Error opening in the file 'fileHandler.txt' was not found\n"
     ]
    }
   ],
   "source": [
    "import logging\n",
    "logging.basicConfig(filename='error.log',level=logging.ERROR)\n",
    "filename='fileHandler.txt'\n",
    "try:\n",
    "    with open(filename,'r') as file:\n",
    "        content=file.read()\n",
    "        print(content)\n",
    "except FileNotFoundError as e:\n",
    "    error_msg=f\" Error opening in the file '{filename}' was not found\"\n",
    "    logging.error(error_msg)\n",
    "    print(error_msg)\n",
    "except PermissionError as e:\n",
    "    print(f\"Permission Denied '{filename}' to read\")\n",
    "except Exception as e:\n",
    "    print(f\"An unexpected error occured {e}\")"
   ]
  },
  {
   "cell_type": "code",
   "execution_count": 19,
   "id": "afcdc7e4-3cd7-4b64-8a0d-3d2871ba0d72",
   "metadata": {},
   "outputs": [],
   "source": [
    "# 9.  How can you read a file line by line and store its content in a list in Python"
   ]
  },
  {
   "cell_type": "code",
   "execution_count": 22,
   "id": "d6544547-3e63-415e-ba91-a66d8eb4a405",
   "metadata": {},
   "outputs": [
    {
     "name": "stdout",
     "output_type": "stream",
     "text": [
      "['2025-06-13 23:06:08,814 -ERROR -there is an error check into the log filedivision by zero', '2025-06-14 05:30:18,959 -WARNING -There can be empty list here', '2025-06-14 05:30:18,960 -ERROR - tbis is the error log file', '2025-06-14 05:30:18,960 -CRITICAL -the software has stopped running', \"2025-06-14 05:52:48,396 -ERROR - Error opening in the file 'fileHandler.txt' was not found\", \"2025-06-14 05:53:10,033 -ERROR - Error opening in the file 'fileHandler.txt' was not found\"]\n"
     ]
    }
   ],
   "source": [
    "filename='error.log'\n",
    "data=[]\n",
    "try:\n",
    "    with open(filename,'r') as file:\n",
    "       for line in file:\n",
    "          data.append(line.strip())\n",
    "except FileNotFoundError as e:\n",
    "    print(\" Unexpected\",e)\n",
    "print(data)"
   ]
  },
  {
   "cell_type": "code",
   "execution_count": 23,
   "id": "e97475f1-aeca-4583-8932-d9f32b626b7b",
   "metadata": {},
   "outputs": [],
   "source": [
    "# 10  How can you append data to an existing file in Python"
   ]
  },
  {
   "cell_type": "code",
   "execution_count": 26,
   "id": "f1cfcbcf-c4f3-4e22-83f3-c7d47eac430e",
   "metadata": {},
   "outputs": [
    {
     "name": "stdout",
     "output_type": "stream",
     "text": [
      "this is the another content of the file\n",
      "this is first content of the file\n",
      " this is the new appended data in file this is the new appended data in file this is the new appended data in file\n"
     ]
    }
   ],
   "source": [
    "filename='newFile.txt'\n",
    "with open(filename,'a') as file:\n",
    "    file.write(\" this is the new appended data in file\")\n",
    "\n",
    "\n",
    "with open(filename,'r') as file:\n",
    "    data=file.read()\n",
    "    print(data)"
   ]
  },
  {
   "cell_type": "code",
   "execution_count": 27,
   "id": "ab9a9c49-06cc-48c0-beb5-35dd768dd122",
   "metadata": {},
   "outputs": [],
   "source": [
    "# 11  Write a Python program that uses a try-except block to handle an error when attempting to access a\n",
    "#      dictionary key that doesn't exist"
   ]
  },
  {
   "cell_type": "code",
   "execution_count": 36,
   "id": "d359e948-6480-43c6-8dac-65fc184e3f7d",
   "metadata": {},
   "outputs": [
    {
     "name": "stdout",
     "output_type": "stream",
     "text": [
      "Enterd key is not found ''grade''\n"
     ]
    }
   ],
   "source": [
    "student={\n",
    "'Name':'Afaque',\n",
    "'age':24,\n",
    "'course':'cse'\n",
    "}\n",
    "key_to_lookup='grade'\n",
    "try:\n",
    "    value=student[key_to_lookup]\n",
    "    print(f\"The value of key '{key_to_lookup} is '{value}'\")\n",
    "except KeyError as e:\n",
    "    print(f\"Enterd key is not found '{e}'\")"
   ]
  },
  {
   "cell_type": "code",
   "execution_count": 37,
   "id": "62a11c8f-234e-4b12-ad05-0938f25646aa",
   "metadata": {},
   "outputs": [],
   "source": [
    "# 12  Write a program that demonstrates using multiple except blocks to handle different types of exceptions"
   ]
  },
  {
   "cell_type": "code",
   "execution_count": 44,
   "id": "841822d9-5315-4c56-acfb-70cd4f0951cf",
   "metadata": {},
   "outputs": [
    {
     "name": "stdin",
     "output_type": "stream",
     "text": [
      "enter any number 10\n",
      "enter the second number 10\n"
     ]
    },
    {
     "name": "stdout",
     "output_type": "stream",
     "text": [
      " the result is '1.0'\n"
     ]
    },
    {
     "name": "stdin",
     "output_type": "stream",
     "text": [
      " enter the index value of the element acess 4\n"
     ]
    },
    {
     "name": "stdout",
     "output_type": "stream",
     "text": [
      " Invalid input list index out of range\n"
     ]
    }
   ],
   "source": [
    "try:\n",
    "    num1=int(input(\"enter any number\"))\n",
    "    num2=int(input(\"enter the second number\"))\n",
    "    result=num1/num2\n",
    "    print(f\" the result is '{result}'\")\n",
    "\n",
    "    my_list=[1,2,3]\n",
    "    index=int(input(\" enter the index value of the element acess\"))\n",
    "    print(f\"The value at index {index} is: {my_list[index]}\")\n",
    "except IndexError as e:\n",
    "    print(\" Invalid input\",e)\n",
    "except KeyError as e:\n",
    "    print(\" Invalid key value\",e)\n",
    "except ZeroDivisionError as e:\n",
    "    print(\" error\",e)"
   ]
  },
  {
   "cell_type": "code",
   "execution_count": 45,
   "id": "3af2850d-64b7-474f-9714-02ae1b0cc0c1",
   "metadata": {},
   "outputs": [],
   "source": [
    "# 13. How would you check if a file exists before attempting to read it in Python"
   ]
  },
  {
   "cell_type": "code",
   "execution_count": 48,
   "id": "6c8f1ba6-99bb-4ea6-bb72-94027a021baa",
   "metadata": {},
   "outputs": [
    {
     "name": "stdout",
     "output_type": "stream",
     "text": [
      " this is the another content of the file\n",
      " this is first content of the file\n"
     ]
    }
   ],
   "source": [
    "import os\n",
    "filename='file.txt'\n",
    "if os.path.exists(filename):\n",
    "     with open(filename,'r') as file:\n",
    "        content=file.read()\n",
    "        print(content)\n",
    "else:\n",
    "    print(f\"error : the fileaname {filename} doesn't exist\")"
   ]
  },
  {
   "cell_type": "code",
   "execution_count": 49,
   "id": "980c52a5-bf66-4099-8f24-a686223c1319",
   "metadata": {},
   "outputs": [],
   "source": [
    "## 14  Write a program that uses the logging module to log both informational and error messages"
   ]
  },
  {
   "cell_type": "code",
   "execution_count": 53,
   "id": "bd8e8733-8437-48c5-a65c-9d806fd57848",
   "metadata": {},
   "outputs": [],
   "source": [
    "import logging\n",
    "filename='fil.txt'\n",
    "logging.basicConfig(\n",
    "    filename='error.log',\n",
    "    level=logging.INFO)\n",
    "try:\n",
    "    a=10\n",
    "    b=0\n",
    "    c=a/b\n",
    "    print(c)\n",
    "    with open(filename,'r') as file:\n",
    "        content=file.read()\n",
    "        print(content)\n",
    "except ZeroDivisionError as e:\n",
    "    logging.error(f\" there is zero divsion errror{e}\")\n",
    "except FileNotFoundError as e:\n",
    "    logging.info(f\" the filename {filename} was not found\")\n",
    "    "
   ]
  },
  {
   "cell_type": "code",
   "execution_count": 54,
   "id": "37e23e1a-0e9c-4016-bcee-d34129568203",
   "metadata": {},
   "outputs": [],
   "source": [
    "# 15. Write a Python program that prints the content of a file and handles the case when the file is empty"
   ]
  },
  {
   "cell_type": "code",
   "execution_count": 57,
   "id": "0ee5f364-64e4-4486-85fa-2b25add21d04",
   "metadata": {},
   "outputs": [
    {
     "name": "stdout",
     "output_type": "stream",
     "text": [
      "file is empty\n"
     ]
    }
   ],
   "source": [
    "import os \n",
    "# checking the file exist or not \n",
    "filename='example.txt'\n",
    "open(filename,'w').close()\n",
    "if os.path.exists(filename):\n",
    "    if os.stat(filename).st_size==0:\n",
    "        print(\"file is empty\")\n",
    "    else:\n",
    "        with open(filename,'r') as file:\n",
    "            content=file.read()\n",
    "            print(\" your file contet is ready\")\n",
    "            print(content)\n",
    "\n",
    "else:\n",
    "    print(\" the file doesn't exist\")"
   ]
  },
  {
   "cell_type": "code",
   "execution_count": 58,
   "id": "cd846e8d-8499-4b41-b50f-5131ba3ddc9d",
   "metadata": {},
   "outputs": [],
   "source": [
    "# 16  Demonstrate how to use memory profiling to check the memory usage of a small program"
   ]
  },
  {
   "cell_type": "code",
   "execution_count": 60,
   "id": "7627b28c-573c-4181-a0ae-e6abc4930bc1",
   "metadata": {},
   "outputs": [],
   "source": [
    "## install the memory profiler \n",
    "  # pip install memory-profiler"
   ]
  },
  {
   "cell_type": "code",
   "execution_count": 63,
   "id": "5fadd10b-1d96-4a4b-a79c-539761983698",
   "metadata": {},
   "outputs": [
    {
     "name": "stdout",
     "output_type": "stream",
     "text": [
      "ERROR: Could not find file /var/folders/lt/92vvt3256lg5xyfxxq3r52zw0000gn/T/ipykernel_29793/2326777517.py\n"
     ]
    }
   ],
   "source": [
    "from memory_profiler import profile\n",
    "\n",
    "@profile\n",
    "def create_list():\n",
    "    a = [i for i in range(1000000)]  # large list to see memory impact\n",
    "    b = sum(a)\n",
    "    return b\n",
    "\n",
    "if __name__ == \"__main__\":\n",
    "    create_list()\n"
   ]
  },
  {
   "cell_type": "code",
   "execution_count": 1,
   "id": "f4175bf0-f6a8-4603-a5e1-0fd91e1ee876",
   "metadata": {},
   "outputs": [],
   "source": [
    "## 17 Write a Python program to create and write a list of numbers to a file, one number per line"
   ]
  },
  {
   "cell_type": "code",
   "execution_count": 4,
   "id": "c4b9a152-2f0b-4188-848d-ecee420bbb2d",
   "metadata": {},
   "outputs": [
    {
     "name": "stdout",
     "output_type": "stream",
     "text": [
      "numbers have been written to the number.txt file\n"
     ]
    }
   ],
   "source": [
    "numbers=[1,2,3,4,5]\n",
    "with open('numbers.txt','w') as file:\n",
    "    for number in numbers:\n",
    "        file.write(f\"{number}\\n\")\n",
    "print(\"numbers have been written to the number.txt file\")"
   ]
  },
  {
   "cell_type": "code",
   "execution_count": 1,
   "id": "0955ba27-c401-4d27-b674-af68d371a058",
   "metadata": {},
   "outputs": [],
   "source": [
    "## 18  How would you implement a basic logging setup that logs to a file with rotation after 1MB"
   ]
  },
  {
   "cell_type": "code",
   "execution_count": 9,
   "id": "356ec838-fa97-451f-9ed6-61898405f955",
   "metadata": {},
   "outputs": [],
   "source": [
    "import logging\n",
    "from logging.handlers import RotatingFileHandler\n",
    "\n",
    "log_file='app.log'\n",
    "handler=RotatingFileHandler(log_file,maxBytes=108576,backupCount=3)\n",
    "logger=logging.getLogger('My_logger')\n",
    "logger.setLevel(logging.INFO)\n",
    "logger.propagate=False\n",
    "formatter=logging.Formatter('%(asctime)s -%(levelname)s -%(message)s')\n",
    "handler.setFormatter(formatter)\n",
    "logger.addHandler(handler)\n",
    "for i in range(1000):\n",
    "    logger.info(f\"this is log message number{i}\")"
   ]
  },
  {
   "cell_type": "code",
   "execution_count": null,
   "id": "1d680fa9-f063-4c17-b639-36d0eba4099d",
   "metadata": {},
   "outputs": [],
   "source": []
  }
 ],
 "metadata": {
  "kernelspec": {
   "display_name": "Python 3 (ipykernel)",
   "language": "python",
   "name": "python3"
  },
  "language_info": {
   "codemirror_mode": {
    "name": "ipython",
    "version": 3
   },
   "file_extension": ".py",
   "mimetype": "text/x-python",
   "name": "python",
   "nbconvert_exporter": "python",
   "pygments_lexer": "ipython3",
   "version": "3.13.1"
  }
 },
 "nbformat": 4,
 "nbformat_minor": 5
}
