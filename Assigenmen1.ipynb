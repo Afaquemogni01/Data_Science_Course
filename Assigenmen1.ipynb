{
 "cells": [
  {
   "cell_type": "raw",
   "id": "5e10b4f7-3936-455f-9818-74e21e23efdd",
   "metadata": {},
   "source": [
    "1.What is Python, and why is it popular \n",
    "\n",
    "=> Python is a programming lang. which is used to give instrunction to machine to perform acordingly.\n",
    "    It is popular because of the folowing reasons:-\n",
    "\n",
    "    = Python is easy in compare to other programming languages.\n",
    "    = Widely used in the industry.\n",
    "    = vast majority of primitive data types \n",
    "\n",
    "\n",
    "\n",
    "2. What is an interpreter in Python \n",
    "    => An Interpreter is python programme that reads the python code and excutes it immediately.\n",
    "\n",
    "3.  What are pre-defined keywords in Python \n",
    "    => Predefined keywords are the special keywords in python (reserved keywords) that cannot be used as  a vaariable , and python        already understands its uses and its specific purposes.\n",
    "\n",
    "4. Can keywords be used as variable names \n",
    "    => No\n",
    "\n",
    "5. What is mutability in Python \n",
    "    => Mutability in python means that value can be changed after declaring.\n",
    "\n",
    "6. Why are lists mutable, but tuples are immutable \n",
    "    => List is desigend to store the collections of items , where you can change ,append or delete the items after it creations.\n",
    "\n",
    "    => Tuples in python meant to represent fixed collections of items (like records) that should not be change\n",
    "\n",
    "        once you created a tuple you cannot do the followings things like:-\n",
    "        ==> Remoiving the elements \n",
    "        ==> adding the new elements\n",
    "        ==> changing the elements \n",
    "7. What is the difference between “==” and “is” operators in Python   \n",
    "    => \"==\" it checks the data inside the two variables is the same.\n",
    "    =>. \"is\" it checks if the both varibales points to exact same memory locations\n",
    "\n",
    "8. What are logical operators in Python \n",
    "    => AND,NOT, XOR,OR, these are the logical operators  in python\n",
    "\n",
    "\n",
    "9.  What is type casting in Python  \n",
    "\n",
    "\n",
    "    => type casting is the process of changing the formats of the dataTypes.\n",
    "        eg. int a=5\n",
    "            typecasting changing the element into a float value\n",
    "            float(a)\n",
    "            after typecasting the result will be 5.0\n",
    "\n",
    "\n",
    "\n",
    "10. What is the difference between implicit and explicit type casting \n",
    "\n",
    "    => Implicit Type Casting (Automatic Conversion) pyhon automatically converts without you need to do anything \n",
    "        During this process no data is lost \n",
    "\n",
    "    =>Explicit TypeCassting (this is an manual Conversion)\n",
    "    => Done manually by the programer by using the function like int(),float (),str()\n",
    "\n",
    "\n",
    "11.   What is the purpose of conditional statements in Python  \n",
    "\n",
    "        => The purpose of the conditional statement is because they allow the programmers to choose differnt actions based on the              certeion condition.\n",
    "        => To make decission in the code \n",
    "        => to control the flow of the. code \n",
    "\n",
    "\n",
    " 12.  How does the elif statement work \n",
    "\n",
    "    => The elif conditiion in the python stands for else if condition in the python code .\n",
    "\n",
    "            It allows you to check the multiple condition in an if else block\n",
    "\n",
    "        Working of the elif Block\n",
    "\n",
    "        First the if block is executed , if the 'if' condition is True then if block is excuted otherwise \n",
    "\n",
    "\n",
    "        => The comiler goes to elif block if the elif (else-if) condition is true then its block is executed otherwise else block            is executed \n",
    "\n",
    "\n",
    "13. What is the difference between for and while loops ?\n",
    "\n",
    "    => Difference between for Loop and while loop\n",
    "        = for loop is used when we know in  advance that how many times the loop dhould excute\n",
    "        =. It iterates over a sequence like list , range ,string \n",
    "==> while Loop\n",
    "\n",
    "        = used when the number of the iteration is not known in advance .\n",
    "        = keeps running as long as the condition is true \n",
    "\n",
    "14.  Describe a scenario where a while loop is more suitable than a for loop. \n",
    "\n",
    "        => A while loop is more suitable when you don't know the number of excution in advance , how many times the loop needs to              run especially in a cases where a loop depends on a user input or a condition that may change unpredictbely"
   ]
  },
  {
   "cell_type": "raw",
   "id": "ec48cfc8-b23d-4397-835f-533ab34c4d73",
   "metadata": {},
   "source": [
    "\n",
    "                                            CODING PART \n",
    "\n",
    "\n",
    "\n",
    "8 Write a Python program to print \"Hello, World!y\n",
    "\n"
   ]
  },
  {
   "cell_type": "code",
   "execution_count": 1,
   "id": "eefcd72d-3968-4283-877b-d8147820055c",
   "metadata": {},
   "outputs": [
    {
     "name": "stdout",
     "output_type": "stream",
     "text": [
      "hello world\n"
     ]
    }
   ],
   "source": [
    "print(\"hello world\")"
   ]
  },
  {
   "cell_type": "raw",
   "id": "e5d07830-a565-4dee-9c12-d2e4f97ce31f",
   "metadata": {},
   "source": [
    " Write a Python program that displays your name and age"
   ]
  },
  {
   "cell_type": "code",
   "execution_count": 4,
   "id": "91e7164f-95a8-48d3-b616-eef17b2610a8",
   "metadata": {},
   "outputs": [
    {
     "name": "stdout",
     "output_type": "stream",
     "text": [
      "My name is Afaque Mogni\n",
      "My age is. 22 \n"
     ]
    }
   ],
   "source": [
    "name=\"Afaque Mogni\"\n",
    "age=22\n",
    "\n",
    "print(\"My name is {}\".format(name))\n",
    "print(\"My age is. {} \".format(age))"
   ]
  },
  {
   "cell_type": "raw",
   "id": "603d2b13-21d9-4a2e-a4f0-514d7c736af8",
   "metadata": {},
   "source": [
    "8 Write code to print all the pre-defined keywords in Python using the keyword library"
   ]
  },
  {
   "cell_type": "code",
   "execution_count": 8,
   "id": "0c58300e-cca6-4e5e-944d-9047b96e119d",
   "metadata": {},
   "outputs": [
    {
     "name": "stdout",
     "output_type": "stream",
     "text": [
      "['False', 'None', 'True', 'and', 'as', 'assert', 'async', 'await', 'break', 'class', 'continue', 'def', 'del', 'elif', 'else', 'except', 'finally', 'for', 'from', 'global', 'if', 'import', 'in', 'is', 'lambda', 'nonlocal', 'not', 'or', 'pass', 'raise', 'return', 'try', 'while', 'with', 'yield']\n"
     ]
    }
   ],
   "source": [
    "import keyword \n",
    "print(keyword.kwlist)"
   ]
  },
  {
   "cell_type": "raw",
   "id": "9a36c12d-77c0-461d-b95f-ba2b71f391ca",
   "metadata": {},
   "source": [
    "9. Write a program that checks if a given word is a Python keyword."
   ]
  },
  {
   "cell_type": "code",
   "execution_count": 17,
   "id": "51097485-6e43-460b-be89-c71853809544",
   "metadata": {},
   "outputs": [
    {
     "name": "stdout",
     "output_type": "stream",
     "text": [
      "False\n",
      "True\n"
     ]
    }
   ],
   "source": [
    "import keyword\n",
    "print(keyword.iskeyword('afaque'))\n",
    "print(keyword.iskeyword('if'))"
   ]
  },
  {
   "cell_type": "raw",
   "id": "0ba51263-a028-4f6c-a41b-5dea72540367",
   "metadata": {},
   "source": [
    "10 Create a list and tuple in Python, and demonstrate how attempting to change an element works differently\n",
    "for each.\n",
    "\n"
   ]
  },
  {
   "cell_type": "code",
   "execution_count": 26,
   "id": "5981a39b-57cb-485a-90db-783198dac493",
   "metadata": {},
   "outputs": [],
   "source": [
    "book_list=['book1','book2','book3','book4','book5']\n",
    "\n",
    "book_list[0]='algo'"
   ]
  },
  {
   "cell_type": "code",
   "execution_count": 27,
   "id": "3ad21cec-f656-4059-921b-eb8183ba74c1",
   "metadata": {},
   "outputs": [
    {
     "data": {
      "text/plain": [
       "['algo', 'book2', 'book3', 'book4', 'book5']"
      ]
     },
     "execution_count": 27,
     "metadata": {},
     "output_type": "execute_result"
    }
   ],
   "source": [
    "book_list"
   ]
  },
  {
   "cell_type": "code",
   "execution_count": 28,
   "id": "023cd7f5-b2c6-4257-a76a-0fb444b5d6d9",
   "metadata": {},
   "outputs": [],
   "source": [
    "tupl=(\"red\",'green','blue') "
   ]
  },
  {
   "cell_type": "code",
   "execution_count": 29,
   "id": "652aac75-5c47-4365-a06e-9c080c801d51",
   "metadata": {},
   "outputs": [
    {
     "ename": "TypeError",
     "evalue": "'tuple' object does not support item assignment",
     "output_type": "error",
     "traceback": [
      "\u001b[0;31m---------------------------------------------------------------------------\u001b[0m",
      "\u001b[0;31mTypeError\u001b[0m                                 Traceback (most recent call last)",
      "Cell \u001b[0;32mIn[29], line 1\u001b[0m\n\u001b[0;32m----> 1\u001b[0m \u001b[43mtupl\u001b[49m\u001b[43m[\u001b[49m\u001b[38;5;241;43m0\u001b[39;49m\u001b[43m]\u001b[49m\u001b[38;5;241m=\u001b[39m\u001b[38;5;124m'\u001b[39m\u001b[38;5;124mpurple\u001b[39m\u001b[38;5;124m'\u001b[39m\n",
      "\u001b[0;31mTypeError\u001b[0m: 'tuple' object does not support item assignment"
     ]
    }
   ],
   "source": [
    "tupl[0]='purple'"
   ]
  },
  {
   "cell_type": "code",
   "execution_count": 30,
   "id": "5421da6b-6b99-4720-8c48-909fbf3a5e0e",
   "metadata": {},
   "outputs": [],
   "source": [
    "## note the tuples is imutable so trying to manipulate the elements may result  in error "
   ]
  },
  {
   "cell_type": "raw",
   "id": "ecd1ed9d-099c-42b5-8c70-d45f4688d9af",
   "metadata": {},
   "source": []
  },
  {
   "cell_type": "code",
   "execution_count": null,
   "id": "f8ca3ed4-b945-4bca-9400-095203a7d5b9",
   "metadata": {},
   "outputs": [],
   "source": []
  },
  {
   "cell_type": "raw",
   "id": "cfceb4d7-d5e4-424b-8335-8254b7b2549d",
   "metadata": {},
   "source": [
    "6.. Write a function to demonstrate the behavior of mutable and immutable arguments. "
   ]
  },
  {
   "cell_type": "code",
   "execution_count": 31,
   "id": "f006891a-82d6-4495-a494-e7e547469b37",
   "metadata": {},
   "outputs": [
    {
     "name": "stdout",
     "output_type": "stream",
     "text": [
      " this is inside the  function\n",
      "number immutable 15\n",
      "list is mutable [1, 2, 3, 100]\n",
      "outside the function\n",
      "Number immutable 5\n",
      "list mutable  [1, 2, 3, 100]\n"
     ]
    }
   ],
   "source": [
    "def modify_data(num, my_list):\n",
    "    num+=10\n",
    "    my_list.append (100)\n",
    "    print(\" this is inside the  function\")\n",
    "    print(\"number immutable\",num)\n",
    "    print(\"list is mutable\",my_list)\n",
    "\n",
    "\n",
    "x=5\n",
    "\n",
    "data_list=[1,2,3]\n",
    "\n",
    "modify_data(x,data_list)\n",
    "\n",
    "\n",
    "print(\"outside the function\")\n",
    "print(\"Number immutable\",x)\n",
    "print(\"list mutable \",data_list)"
   ]
  },
  {
   "cell_type": "raw",
   "id": "3b3b94ee-490b-4d28-b39e-fc3042490728",
   "metadata": {},
   "source": [
    " "
   ]
  },
  {
   "cell_type": "code",
   "execution_count": null,
   "id": "ed559915-77c6-4363-afa2-1603c88d39e6",
   "metadata": {},
   "outputs": [],
   "source": []
  },
  {
   "cell_type": "raw",
   "id": "18b2a3af-a068-4390-8a5c-47b742446930",
   "metadata": {},
   "source": [
    "7. Write a program that performs basic arithmetic operations on two user-input numbers."
   ]
  },
  {
   "cell_type": "code",
   "execution_count": 38,
   "id": "caa9dc68-ef14-4341-b816-b68e17bf48e2",
   "metadata": {},
   "outputs": [
    {
     "name": "stdin",
     "output_type": "stream",
     "text": [
      "enter the first number 5\n",
      "enter the second number 3\n",
      "enter the operation wanna perform -\n"
     ]
    },
    {
     "name": "stdout",
     "output_type": "stream",
     "text": [
      "2\n"
     ]
    }
   ],
   "source": [
    "n=int(input(\"enter the first number\"))\n",
    "p=int(input(\"enter the second number\"))\n",
    "sign=input(\"enter the operation wanna perform\")\n",
    "if sign ==\"*\":\n",
    "    result=n*p\n",
    "    print(result)\n",
    "elif sign==\"+\":\n",
    "    result=n+p\n",
    "    print(result)\n",
    "else:\n",
    "    result=n-p\n",
    "    print(result)\n"
   ]
  },
  {
   "cell_type": "code",
   "execution_count": null,
   "id": "4e17babd-0f0b-44f8-94db-11baed286041",
   "metadata": {},
   "outputs": [],
   "source": []
  },
  {
   "cell_type": "raw",
   "id": "f5eb6a9d-cac0-4d5d-823a-17844f23d098",
   "metadata": {},
   "source": [
    "8. Write a program to demonstrate the use of logical operators."
   ]
  },
  {
   "cell_type": "code",
   "execution_count": 43,
   "id": "0f34e09b-ba43-43da-95d0-96a193fbf59b",
   "metadata": {},
   "outputs": [
    {
     "name": "stdin",
     "output_type": "stream",
     "text": [
      "enter your age  17\n",
      " yes/no have a valid id no\n"
     ]
    },
    {
     "name": "stdout",
     "output_type": "stream",
     "text": [
      "entry denied\n",
      "you supposed to be 18+ and have valid id to enter\n",
      "you must carray an id\n"
     ]
    }
   ],
   "source": [
    "age =int(input(\"enter your age \"))\n",
    "has_id=input(\" yes/no have a valid id\").lower()\n",
    "if age>=18 and has_id==\"yes\":\n",
    "    print(\" entry allowed\")\n",
    "else:\n",
    "    print(\"entry denied\")\n",
    "\n",
    "if age<18 or has_id!=\"yes\":\n",
    "    print(\"you supposed to be 18+ and have valid id to enter\")\n",
    "else:\n",
    "    print(\"all the requirements met\")\n",
    "if not has_id==\"yes\":\n",
    "    print(\"you must carray an id\")"
   ]
  },
  {
   "cell_type": "code",
   "execution_count": null,
   "id": "9954c611-1557-4bd6-9627-aeeac7507a73",
   "metadata": {},
   "outputs": [],
   "source": []
  },
  {
   "cell_type": "code",
   "execution_count": null,
   "id": "e0c7b719-b2a7-466d-8004-153cd98940df",
   "metadata": {},
   "outputs": [],
   "source": []
  },
  {
   "cell_type": "raw",
   "id": "a798ddd5-5c7a-4d17-8a23-fb4ed76ab79a",
   "metadata": {},
   "source": [
    "9. Write a Python program to convert user input from string to integer, float, and boolean types \n"
   ]
  },
  {
   "cell_type": "code",
   "execution_count": 51,
   "id": "036d320f-f15f-4680-9ebb-2da849cd39f9",
   "metadata": {},
   "outputs": [
    {
     "name": "stdin",
     "output_type": "stream",
     "text": [
      "enter any number 0\n"
     ]
    },
    {
     "name": "stdout",
     "output_type": "stream",
     "text": [
      "0\n",
      "0.0\n",
      "False\n"
     ]
    }
   ],
   "source": [
    "number=input(\"enter any number\")\n",
    "type(number)\n",
    "#converting the numbers\n",
    "int_num=int(number)\n",
    "print(int_num)\n",
    "float_num=float(number)\n",
    "print(float_num)\n",
    "\n",
    "bool_val=bool(int(number))\n",
    "print(bool_val)"
   ]
  },
  {
   "cell_type": "code",
   "execution_count": null,
   "id": "84bdf6ad-90cd-4d32-9eb6-7d2e4276313f",
   "metadata": {},
   "outputs": [],
   "source": []
  },
  {
   "cell_type": "code",
   "execution_count": null,
   "id": "3512f1a7-71fb-427a-a942-bcb93856de5c",
   "metadata": {},
   "outputs": [],
   "source": []
  },
  {
   "cell_type": "raw",
   "id": "19bf2862-18b4-43ba-b9cd-74b94fa3ea55",
   "metadata": {},
   "source": [
    "10. Write code to demonstrate type casting with list elements.  "
   ]
  },
  {
   "cell_type": "code",
   "execution_count": 1,
   "id": "832f371f-2b38-4df5-ac5b-656d3ce674b6",
   "metadata": {},
   "outputs": [
    {
     "name": "stdout",
     "output_type": "stream",
     "text": [
      "['1', '2', '3', '4', '5']\n",
      "[1, 2, 3, 4, 5]\n"
     ]
    }
   ],
   "source": [
    "str_list=['1','2','3','4','5']\n",
    "print(str_list)\n",
    "\n",
    "int_list=[]\n",
    "\n",
    "for i  in str_list:\n",
    "    int_list.append(int(i))\n",
    "\n",
    "print(int_list)"
   ]
  },
  {
   "cell_type": "code",
   "execution_count": 4,
   "id": "a20e6298-e146-411a-9f45-47ce6d825f61",
   "metadata": {},
   "outputs": [
    {
     "name": "stdout",
     "output_type": "stream",
     "text": [
      "[1, 2, 3, 4, 5]\n"
     ]
    }
   ],
   "source": [
    "\n",
    "## done inplace conversion of the list\n",
    "\n",
    "str_list=['1','2','3','4','5']\n",
    "\n",
    "for i in range(len(str_list)):\n",
    "    str_list[i]=int(str_list[i])\n",
    "\n",
    "print(str_list)\n"
   ]
  },
  {
   "cell_type": "raw",
   "id": "34331581-600f-455d-a405-b1e20563cc2f",
   "metadata": {},
   "source": [
    "11. Write a program that checks if a number is positive, negative, or zero.  \n"
   ]
  },
  {
   "cell_type": "code",
   "execution_count": 6,
   "id": "0f10ff0a-080a-4203-9b26-94ecf7be2ace",
   "metadata": {},
   "outputs": [
    {
     "name": "stdin",
     "output_type": "stream",
     "text": [
      "enter any number 1\n"
     ]
    },
    {
     "name": "stdout",
     "output_type": "stream",
     "text": [
      "positive number\n"
     ]
    }
   ],
   "source": [
    "number=float(input(\"enter any number\"))\n",
    "\n",
    "if number>0:\n",
    "    print(\"positive number\")\n",
    "elif number<0:\n",
    "    print(\"negative number\")\n",
    "else:\n",
    "    print(\" number is 0\")"
   ]
  },
  {
   "cell_type": "code",
   "execution_count": null,
   "id": "c498c742-7a01-4c93-95a2-2f79f62732ef",
   "metadata": {},
   "outputs": [],
   "source": []
  },
  {
   "cell_type": "raw",
   "id": "52adf15a-44fc-4701-bd08-27f350de9254",
   "metadata": {},
   "source": [
    "12.. Write a for loop to print numbers from 1 to 10. \n"
   ]
  },
  {
   "cell_type": "code",
   "execution_count": 10,
   "id": "6ccb9235-176c-48ba-8460-e1b15b410949",
   "metadata": {},
   "outputs": [
    {
     "name": "stdout",
     "output_type": "stream",
     "text": [
      "1\n",
      "2\n",
      "3\n",
      "4\n",
      "5\n",
      "6\n",
      "7\n",
      "8\n",
      "9\n",
      "10\n"
     ]
    }
   ],
   "source": [
    "for i in range(1,11):\n",
    "    print(i)"
   ]
  },
  {
   "cell_type": "raw",
   "id": "7e4afbd2-2ba0-4214-9133-ae1673f47100",
   "metadata": {},
   "source": [
    "13 .  Write a Python program to find the sum of all even numbers between 1 and 50.  "
   ]
  },
  {
   "cell_type": "code",
   "execution_count": 13,
   "id": "b8501a9c-6646-43c8-a461-fd2e580989d7",
   "metadata": {},
   "outputs": [
    {
     "name": "stdout",
     "output_type": "stream",
     "text": [
      "2\n",
      "4\n",
      "6\n",
      "8\n",
      "10\n",
      "12\n",
      "14\n",
      "16\n",
      "18\n",
      "20\n",
      "22\n",
      "24\n",
      "26\n",
      "28\n",
      "30\n",
      "32\n",
      "34\n",
      "36\n",
      "38\n",
      "40\n",
      "42\n",
      "44\n",
      "46\n",
      "48\n",
      "50\n",
      "sum of all even number is  650\n"
     ]
    }
   ],
   "source": [
    "\n",
    "sum=0\n",
    "for i in range(1,51):\n",
    "    if i%2!=0:\n",
    "        continue\n",
    "    else:\n",
    "        print(i)\n",
    "        sum+=i\n",
    "        \n",
    "print(\"sum of all even number is \",sum)"
   ]
  },
  {
   "cell_type": "raw",
   "id": "5a4eac91-0f6d-47a0-888f-a6dc2794c8f0",
   "metadata": {},
   "source": [
    "14. Write a program to reverse a string using a while loop. \n"
   ]
  },
  {
   "cell_type": "code",
   "execution_count": 20,
   "id": "d76fc33a-a447-472a-b5a2-8987dfbce7f2",
   "metadata": {},
   "outputs": [
    {
     "name": "stdout",
     "output_type": "stream",
     "text": [
      "euqafA\n"
     ]
    }
   ],
   "source": [
    "str=\"Afaque\"\n",
    "reversedstr=\"\"\n",
    "index=len(str)-1\n",
    "while index>=0:\n",
    "    reversedstr+=str[index]\n",
    "    index-=1\n",
    "print(reversedstr)"
   ]
  },
  {
   "cell_type": "raw",
   "id": "9f41cdd7-66cf-4591-9c30-1cffbd539362",
   "metadata": {},
   "source": [
    "15.  Write a Python program to calculate the factorial of a number provided by the user using a while loop. \n"
   ]
  },
  {
   "cell_type": "code",
   "execution_count": 26,
   "id": "48f74a6a-b05f-43ce-bc8d-5c6cc4de15d3",
   "metadata": {},
   "outputs": [
    {
     "name": "stdin",
     "output_type": "stream",
     "text": [
      "enter any number 5\n"
     ]
    },
    {
     "name": "stdout",
     "output_type": "stream",
     "text": [
      "120\n"
     ]
    }
   ],
   "source": [
    "number=int(input(\"enter any number\"))\n",
    "result=1\n",
    "while(number>=1):\n",
    "    result*=number\n",
    "    number-=1\n",
    "print(result)\n",
    "    "
   ]
  },
  {
   "cell_type": "code",
   "execution_count": null,
   "id": "0c4d1f52-f46d-4e3a-b454-6e5e375db35f",
   "metadata": {},
   "outputs": [],
   "source": []
  }
 ],
 "metadata": {
  "kernelspec": {
   "display_name": "Python 3 (ipykernel)",
   "language": "python",
   "name": "python3"
  },
  "language_info": {
   "codemirror_mode": {
    "name": "ipython",
    "version": 3
   },
   "file_extension": ".py",
   "mimetype": "text/x-python",
   "name": "python",
   "nbconvert_exporter": "python",
   "pygments_lexer": "ipython3",
   "version": "3.13.1"
  }
 },
 "nbformat": 4,
 "nbformat_minor": 5
}
