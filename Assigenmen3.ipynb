{
 "cells": [
  {
   "cell_type": "raw",
   "id": "56e76e9d-0ba3-4595-91de-c59eda61e5f9",
   "metadata": {},
   "source": [
    " 1. Write a Python function that takes a list of numbers as input and returns the sum of all even numbers in\n",
    "the list."
   ]
  },
  {
   "cell_type": "code",
   "execution_count": 1,
   "id": "9a193532-88aa-4c94-9284-c231c8e08941",
   "metadata": {},
   "outputs": [
    {
     "name": "stdout",
     "output_type": "stream",
     "text": [
      "12\n"
     ]
    }
   ],
   "source": [
    "def innumber(n):\n",
    "    lis = []\n",
    "    for i in range(1,n+1):\n",
    "        lis.append(i)\n",
    "    \n",
    "    total = 0\n",
    "    for num in lis:\n",
    "        if num % 2 == 0:\n",
    "            total += num\n",
    "\n",
    "    return total\n",
    "\n",
    "print(innumber(6))\n"
   ]
  },
  {
   "cell_type": "raw",
   "id": "3ff1aacb-6471-4b73-8c42-9ad0d431efc6",
   "metadata": {},
   "source": [
    "2. Create a Python function that accepts a string and returns the reverse of that string. "
   ]
  },
  {
   "cell_type": "code",
   "execution_count": 2,
   "id": "5697dafb-2ebe-4fda-aa6c-98ceeb57f9e9",
   "metadata": {},
   "outputs": [
    {
     "name": "stdout",
     "output_type": "stream",
     "text": [
      "euqafa\n"
     ]
    }
   ],
   "source": [
    "def strIn(strinput):\n",
    "    newInput=strinput[::-1]\n",
    "    return newInput\n",
    "\n",
    "\n",
    "print(strIn(\"afaque\"))\n"
   ]
  },
  {
   "cell_type": "raw",
   "id": "501cb723-4f5d-4c72-968c-b31b5ae7fc51",
   "metadata": {},
   "source": [
    "3. Implement a Python function that takes a list of integers and returns a new list containing the squares of\n",
    "each number."
   ]
  },
  {
   "cell_type": "code",
   "execution_count": 3,
   "id": "4c985fe6-47ee-426e-9f7c-34681c2aff81",
   "metadata": {},
   "outputs": [
    {
     "name": "stdout",
     "output_type": "stream",
     "text": [
      "[4, 16, 36, 64, 100]\n"
     ]
    }
   ],
   "source": [
    "def sq_list(sq):\n",
    "   return list(map(lambda x: x**2 ,sq))\n",
    "\n",
    "\n",
    "\n",
    "\n",
    "sq=[2,4,6,8,10]\n",
    "print(sq_list(sq))"
   ]
  },
  {
   "cell_type": "raw",
   "id": "11732b71-29f1-4433-ac20-6441a970064b",
   "metadata": {},
   "source": [
    "4. . Write a Python function that checks if a given number is prime or not from 1 to 200. "
   ]
  },
  {
   "cell_type": "code",
   "execution_count": 4,
   "id": "6cc3693f-580a-4675-bf77-29c7fff54a5e",
   "metadata": {},
   "outputs": [
    {
     "name": "stdout",
     "output_type": "stream",
     "text": [
      "False\n"
     ]
    }
   ],
   "source": [
    "def is_prime(n):\n",
    "    if n<=1:\n",
    "        return False\n",
    "    for i in range(2,int(n**0.5)+1):\n",
    "        if n%2==0:\n",
    "            return False\n",
    "        return True\n",
    "print(is_prime(6))"
   ]
  },
  {
   "cell_type": "raw",
   "id": "152c43a7-73f9-4d3d-a423-61ff3ada1a1c",
   "metadata": {},
   "source": [
    "5.  Create an iterator class in Python that generates the Fibonacci sequence up to a specified number of\n",
    "terms."
   ]
  },
  {
   "cell_type": "raw",
   "id": "7a1dfae6-4813-40b4-a095-2b7d4657811e",
   "metadata": {},
   "source": [
    "6. Write a generator function in Python that yields the powers of 2 up to a given exponent."
   ]
  },
  {
   "cell_type": "code",
   "execution_count": 5,
   "id": "6f5ebb47-18ef-40c6-8b2b-625dc2b059ab",
   "metadata": {},
   "outputs": [
    {
     "name": "stdout",
     "output_type": "stream",
     "text": [
      "0\n"
     ]
    }
   ],
   "source": [
    "def power(n):\n",
    "    for i in range(1+n):\n",
    "        yield i**2\n",
    "\n",
    "gen=power(6)\n",
    "\n",
    "print(next(gen))"
   ]
  },
  {
   "cell_type": "code",
   "execution_count": 6,
   "id": "37b290aa-8e31-4965-a3f7-5aece9100d7d",
   "metadata": {},
   "outputs": [
    {
     "name": "stdout",
     "output_type": "stream",
     "text": [
      "1\n"
     ]
    }
   ],
   "source": [
    "print(next(gen))"
   ]
  },
  {
   "cell_type": "code",
   "execution_count": 7,
   "id": "e6039716-e8b2-4141-80a3-dee3039d7f3b",
   "metadata": {},
   "outputs": [
    {
     "name": "stdout",
     "output_type": "stream",
     "text": [
      "4\n"
     ]
    }
   ],
   "source": [
    "print(next(gen))"
   ]
  },
  {
   "cell_type": "code",
   "execution_count": 8,
   "id": "b558548e-7e22-480a-84b9-11320f23b77b",
   "metadata": {},
   "outputs": [
    {
     "name": "stdout",
     "output_type": "stream",
     "text": [
      "0\n",
      "1\n",
      "4\n",
      "9\n",
      "16\n",
      "25\n"
     ]
    }
   ],
   "source": [
    "for value in power(5):\n",
    "    print(value)"
   ]
  },
  {
   "cell_type": "raw",
   "id": "9607c94c-dfe3-4644-b694-2212f032a6f9",
   "metadata": {},
   "source": [
    "7.  Implement a generator function that reads a file line by line and yields each line as a string."
   ]
  },
  {
   "cell_type": "code",
   "execution_count": 9,
   "id": "b419d2d4-75b4-4b92-a149-b14d65817bdf",
   "metadata": {},
   "outputs": [
    {
     "name": "stdout",
     "output_type": "stream",
     "text": [
      "[(2, 1), (3, 2), (1, 5), (4, 9)]\n"
     ]
    }
   ],
   "source": [
    "data=[(1, 5), (3, 2), (4, 9), (2, 1)]\n",
    "sorted_data=sorted(data,key =lambda x:x[1])\n",
    "print(sorted_data)"
   ]
  },
  {
   "cell_type": "raw",
   "id": "4814b4a1-2b81-471e-90af-c87df8c3303e",
   "metadata": {},
   "source": [
    "8. Write a Python program that uses `map()` to convert a list of temperatures from Celsius to Fahrenheit."
   ]
  },
  {
   "cell_type": "code",
   "execution_count": 12,
   "id": "9810aaec-c598-4082-b56a-ee9f8be85ff8",
   "metadata": {},
   "outputs": [
    {
     "name": "stdout",
     "output_type": "stream",
     "text": [
      "[38, 49, 56, 88, 76]\n",
      "[100.4, 120.2, 132.8, 190.4, 168.8]\n"
     ]
    }
   ],
   "source": [
    "temp_in_celcious=[38,49,56,88,76]\n",
    "fherenhit=list(map(lambda celcious:(celcious*9/5)+32,temp_in_celcious))\n",
    "print(temp_in_celcious)\n",
    "print(fherenhit)"
   ]
  },
  {
   "cell_type": "raw",
   "id": "d0405d2b-0cc7-4b40-96ff-cd8508ea2a1e",
   "metadata": {},
   "source": [
    "9.  Create a Python program that uses `filter()` to remove all the vowels from a given string."
   ]
  },
  {
   "cell_type": "code",
   "execution_count": 17,
   "id": "56562329-7c97-4037-8c20-77d5a0a3c32b",
   "metadata": {},
   "outputs": [
    {
     "data": {
      "text/plain": [
       "'ncyclpd'"
      ]
     },
     "execution_count": 17,
     "metadata": {},
     "output_type": "execute_result"
    }
   ],
   "source": [
    "def remove_vowels(input_str):\n",
    "    vowels='aeiou'\n",
    "    result=''.join(filter(lambda char:char not in vowels,input_str))\n",
    "    return result\n",
    "remove_vowels('encyclopedia')\n"
   ]
  },
  {
   "cell_type": "code",
   "execution_count": 18,
   "id": "f9989a5c-23e1-41d5-9f0e-1b28a86acfe4",
   "metadata": {},
   "outputs": [],
   "source": [
    "headers = [\"Order Number\", \"Book Title and Author\", \"Quantity\", \"Price per Item\"]\n",
    "\n",
    "orders = [\n",
    "    [34587, \"Learning Python, Mark Lutz\", 4, 40.95],\n",
    "    [98762, \"Programming Python, Mark Lutz\", 5, 56.80],\n",
    "    [77226, \"Head First Python, Paul Barry\", 3, 32.95],\n",
    "    [88112, \"Einführung in Python3, Bernd Klein\", 3, 24.99]\n",
    "]"
   ]
  },
  {
   "cell_type": "code",
   "execution_count": 34,
   "id": "cd7fee51-a7b6-4747-ae14-dcd85bf111f5",
   "metadata": {},
   "outputs": [
    {
     "name": "stdout",
     "output_type": "stream",
     "text": [
      "Order Number   Book Title and Author                    Quantity   Price per Item\n",
      "34587           Learning Python, Mark Lutz               4          40.95          \n",
      "98762           Programming Python, Mark Lutz            5          56.8           \n",
      "77226           Head First Python, Paul Barry            3          32.95          \n",
      "88112           Einführung in Python3, Bernd Klein       3          24.99          \n"
     ]
    }
   ],
   "source": [
    "print(f\"{headers[0]:<14} {headers[1]:<40} {headers[2]:<10} {headers[3]:<10}\")\n",
    "\n",
    "for order in orders:\n",
    "    print(f\"{order[0]:<15} {order[1]:<40} {order[2]:<10} {order[3]:<15}\")"
   ]
  },
  {
   "cell_type": "code",
   "execution_count": 38,
   "id": "8e41c9f8-5214-41c0-be12-94038d4c7226",
   "metadata": {},
   "outputs": [
    {
     "name": "stdout",
     "output_type": "stream",
     "text": [
      "[(34587, 163.8), (98762, 284.0), (77226, 108.85000000000001), (88112, 84.97)]\n"
     ]
    }
   ],
   "source": [
    "result=list(map(lambda order:(order[0],order[2]*order[3] if order[2]*order[3]>=100 else order[2]*order[3]+10),orders))\n",
    "print(result)"
   ]
  },
  {
   "cell_type": "code",
   "execution_count": null,
   "id": "0de7cf24-4333-4bdf-870a-850b5f88870e",
   "metadata": {},
   "outputs": [],
   "source": []
  }
 ],
 "metadata": {
  "kernelspec": {
   "display_name": "Python 3 (ipykernel)",
   "language": "python",
   "name": "python3"
  },
  "language_info": {
   "codemirror_mode": {
    "name": "ipython",
    "version": 3
   },
   "file_extension": ".py",
   "mimetype": "text/x-python",
   "name": "python",
   "nbconvert_exporter": "python",
   "pygments_lexer": "ipython3",
   "version": "3.13.1"
  }
 },
 "nbformat": 4,
 "nbformat_minor": 5
}
